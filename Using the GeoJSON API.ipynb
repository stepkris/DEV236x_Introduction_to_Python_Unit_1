{
  "cells": [
    {
      "metadata": {
        "trusted": true
      },
      "cell_type": "code",
      "source": "import urllib.request, urllib.parse, urllib.error\nimport ssl\nimport json\n\nserviceurl = 'http://py4e-data.dr-chuck.net/json?'\n\nwhile True:\n    address = input('Enter location: ')\n    if len(address) < 1: break\n\n    \n    url = serviceurl + urllib.parse.urlencode({'address':address})\n\n    print('Retrieving', url)\n    uh = urllib.request.urlopen(url)\n    data = uh.read().decode()\n    print('Retrieved', len(data), 'characters')\n\n    try:\n        js = json.loads(data)\n    except:\n        js = None\n    print(json.dumps(js, indent=4))\n    if not js or 'status' not in js or js['status'] != 'OK':\n        print('==== Failure To Retrieve ====')\n        print(data)\n        continue\n\n    print(json.dumps(js, indent=4))\n\n",
      "execution_count": null,
      "outputs": [
        {
          "output_type": "stream",
          "name": "stdout",
          "text": "Enter location: South Federal University\nRetrieving http://py4e-data.dr-chuck.net/json?address=South+Federal+University\nRetrieved 67 characters\nnull\n==== Failure To Retrieve ====\nMissing/incorrect key= parameter (it is an easy number to guess)...\n"
        }
      ]
    }
  ],
  "metadata": {
    "kernelspec": {
      "name": "python3",
      "display_name": "Python 3",
      "language": "python"
    },
    "language_info": {
      "mimetype": "text/x-python",
      "nbconvert_exporter": "python",
      "name": "python",
      "file_extension": ".py",
      "version": "3.5.4",
      "pygments_lexer": "ipython3",
      "codemirror_mode": {
        "version": 3,
        "name": "ipython"
      }
    }
  },
  "nbformat": 4,
  "nbformat_minor": 1
}