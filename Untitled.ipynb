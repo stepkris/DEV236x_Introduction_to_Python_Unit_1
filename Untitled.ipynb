{
  "cells": [
    {
      "metadata": {
        "trusted": false
      },
      "cell_type": "code",
      "source": "String_1 = input(\"Input 1 - \")\nString_2 = input(\"Input 2 - \")\n\ndef multiply_2():\n    calculator_2 = int (String_1) * int (String_2)\n    return str (calculator_2)\n\nprint (String_1, \"+\", String_2,\"=\", multiply_2())",
      "execution_count": 4,
      "outputs": [
        {
          "name": "stdout",
          "output_type": "stream",
          "text": "Input 1 - 2\nInput 2 - 3\n2 + 3 = 6\n"
        }
      ]
    },
    {
      "metadata": {
        "trusted": false
      },
      "cell_type": "code",
      "source": "String_1 = input(\"Input 1 - \")\nString_2 = input(\"Input 2 - \")\n\ndef multiply_2():\n    calculator_2 = int (String_1) *int (String_2)\n    return str (calculator_2)\n\nprint (String_1, \"*\", String_2,\"=\", multiply_2())",
      "execution_count": 8,
      "outputs": [
        {
          "name": "stdout",
          "output_type": "stream",
          "text": "Input 1 - 1\nInput 2 - 2\n1 + 2 = 2\n"
        }
      ]
    },
    {
      "metadata": {
        "trusted": true
      },
      "cell_type": "code",
      "source": "import urllib.request, urllib.parse, urllib.error\n\nfhand = urllib.request.urlopen('http://data.pr4e.org/romeo.txt')\nfor line in fhand:\n    print(line.decode().strip())",
      "execution_count": 2,
      "outputs": [
        {
          "output_type": "stream",
          "text": "But soft what light through yonder window breaks\nIt is the east and Juliet is the sun\nArise fair sun and kill the envious moon\nWho is already sick and pale with grief\n",
          "name": "stdout"
        }
      ]
    },
    {
      "metadata": {
        "trusted": true
      },
      "cell_type": "code",
      "source": "# To run this, download the BeautifulSoup zip file\n# http://www.py4e.com/code3/bs4.zip\n# and unzip it in the same directory as this file\n\nfrom urllib.request import urlopen\nfrom bs4 import BeautifulSoup\nimport ssl\n\n# Ignore SSL certificate errors\nctx = ssl.create_default_context()\nctx.check_hostname = False\nctx.verify_mode = ssl.CERT_NONE\n\nurl = input('Enter - ')\nhtml = urlopen(url, context=ctx).read()\nsoup = BeautifulSoup(html, \"html.parser\")\n\n# Retrieve all of the anchor tags\ntags = soup('span')\nfor tag in tags:\n    # Look at the parts of a tag\n    print('TAG:', tag)\n    print('URL:', tag.get('href', None))\n    print('Contents:', tag.contents[0])\n    print('Attrs:', tag.attrs)",
      "execution_count": 3,
      "outputs": [
        {
          "output_type": "stream",
          "name": "stdout",
          "text": "Enter - http://py4e-data.dr-chuck.net/comments_42.html\nTAG: <span class=\"comments\">97</span>\nURL: None\nContents: 97\nAttrs: {'class': ['comments']}\nTAG: <span class=\"comments\">97</span>\nURL: None\nContents: 97\nAttrs: {'class': ['comments']}\nTAG: <span class=\"comments\">90</span>\nURL: None\nContents: 90\nAttrs: {'class': ['comments']}\nTAG: <span class=\"comments\">90</span>\nURL: None\nContents: 90\nAttrs: {'class': ['comments']}\nTAG: <span class=\"comments\">88</span>\nURL: None\nContents: 88\nAttrs: {'class': ['comments']}\nTAG: <span class=\"comments\">87</span>\nURL: None\nContents: 87\nAttrs: {'class': ['comments']}\nTAG: <span class=\"comments\">87</span>\nURL: None\nContents: 87\nAttrs: {'class': ['comments']}\nTAG: <span class=\"comments\">80</span>\nURL: None\nContents: 80\nAttrs: {'class': ['comments']}\nTAG: <span class=\"comments\">79</span>\nURL: None\nContents: 79\nAttrs: {'class': ['comments']}\nTAG: <span class=\"comments\">79</span>\nURL: None\nContents: 79\nAttrs: {'class': ['comments']}\nTAG: <span class=\"comments\">78</span>\nURL: None\nContents: 78\nAttrs: {'class': ['comments']}\nTAG: <span class=\"comments\">76</span>\nURL: None\nContents: 76\nAttrs: {'class': ['comments']}\nTAG: <span class=\"comments\">76</span>\nURL: None\nContents: 76\nAttrs: {'class': ['comments']}\nTAG: <span class=\"comments\">72</span>\nURL: None\nContents: 72\nAttrs: {'class': ['comments']}\nTAG: <span class=\"comments\">72</span>\nURL: None\nContents: 72\nAttrs: {'class': ['comments']}\nTAG: <span class=\"comments\">66</span>\nURL: None\nContents: 66\nAttrs: {'class': ['comments']}\nTAG: <span class=\"comments\">66</span>\nURL: None\nContents: 66\nAttrs: {'class': ['comments']}\nTAG: <span class=\"comments\">65</span>\nURL: None\nContents: 65\nAttrs: {'class': ['comments']}\nTAG: <span class=\"comments\">65</span>\nURL: None\nContents: 65\nAttrs: {'class': ['comments']}\nTAG: <span class=\"comments\">64</span>\nURL: None\nContents: 64\nAttrs: {'class': ['comments']}\nTAG: <span class=\"comments\">61</span>\nURL: None\nContents: 61\nAttrs: {'class': ['comments']}\nTAG: <span class=\"comments\">61</span>\nURL: None\nContents: 61\nAttrs: {'class': ['comments']}\nTAG: <span class=\"comments\">59</span>\nURL: None\nContents: 59\nAttrs: {'class': ['comments']}\nTAG: <span class=\"comments\">58</span>\nURL: None\nContents: 58\nAttrs: {'class': ['comments']}\nTAG: <span class=\"comments\">57</span>\nURL: None\nContents: 57\nAttrs: {'class': ['comments']}\nTAG: <span class=\"comments\">57</span>\nURL: None\nContents: 57\nAttrs: {'class': ['comments']}\nTAG: <span class=\"comments\">54</span>\nURL: None\nContents: 54\nAttrs: {'class': ['comments']}\nTAG: <span class=\"comments\">51</span>\nURL: None\nContents: 51\nAttrs: {'class': ['comments']}\nTAG: <span class=\"comments\">49</span>\nURL: None\nContents: 49\nAttrs: {'class': ['comments']}\nTAG: <span class=\"comments\">47</span>\nURL: None\nContents: 47\nAttrs: {'class': ['comments']}\nTAG: <span class=\"comments\">40</span>\nURL: None\nContents: 40\nAttrs: {'class': ['comments']}\nTAG: <span class=\"comments\">38</span>\nURL: None\nContents: 38\nAttrs: {'class': ['comments']}\nTAG: <span class=\"comments\">37</span>\nURL: None\nContents: 37\nAttrs: {'class': ['comments']}\nTAG: <span class=\"comments\">36</span>\nURL: None\nContents: 36\nAttrs: {'class': ['comments']}\nTAG: <span class=\"comments\">36</span>\nURL: None\nContents: 36\nAttrs: {'class': ['comments']}\nTAG: <span class=\"comments\">32</span>\nURL: None\nContents: 32\nAttrs: {'class': ['comments']}\nTAG: <span class=\"comments\">25</span>\nURL: None\nContents: 25\nAttrs: {'class': ['comments']}\nTAG: <span class=\"comments\">24</span>\nURL: None\nContents: 24\nAttrs: {'class': ['comments']}\nTAG: <span class=\"comments\">22</span>\nURL: None\nContents: 22\nAttrs: {'class': ['comments']}\nTAG: <span class=\"comments\">21</span>\nURL: None\nContents: 21\nAttrs: {'class': ['comments']}\nTAG: <span class=\"comments\">19</span>\nURL: None\nContents: 19\nAttrs: {'class': ['comments']}\nTAG: <span class=\"comments\">18</span>\nURL: None\nContents: 18\nAttrs: {'class': ['comments']}\nTAG: <span class=\"comments\">18</span>\nURL: None\nContents: 18\nAttrs: {'class': ['comments']}\nTAG: <span class=\"comments\">14</span>\nURL: None\nContents: 14\nAttrs: {'class': ['comments']}\nTAG: <span class=\"comments\">12</span>\nURL: None\nContents: 12\nAttrs: {'class': ['comments']}\nTAG: <span class=\"comments\">12</span>\nURL: None\nContents: 12\nAttrs: {'class': ['comments']}\nTAG: <span class=\"comments\">9</span>\nURL: None\nContents: 9\nAttrs: {'class': ['comments']}\nTAG: <span class=\"comments\">7</span>\nURL: None\nContents: 7\nAttrs: {'class': ['comments']}\nTAG: <span class=\"comments\">3</span>\nURL: None\nContents: 3\nAttrs: {'class': ['comments']}\nTAG: <span class=\"comments\">2</span>\nURL: None\nContents: 2\nAttrs: {'class': ['comments']}\n"
        }
      ]
    }
  ],
  "metadata": {
    "kernelspec": {
      "name": "python3",
      "display_name": "Python 3",
      "language": "python"
    },
    "language_info": {
      "mimetype": "text/x-python",
      "nbconvert_exporter": "python",
      "name": "python",
      "pygments_lexer": "ipython3",
      "version": "3.5.4",
      "file_extension": ".py",
      "codemirror_mode": {
        "version": 3,
        "name": "ipython"
      }
    }
  },
  "nbformat": 4,
  "nbformat_minor": 2
}