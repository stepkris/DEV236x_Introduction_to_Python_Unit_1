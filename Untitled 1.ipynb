{
  "cells": [
    {
      "metadata": {
        "trusted": true
      },
      "cell_type": "code",
      "source": "def adding_report():  \n    while True:\n        report = input(\"Choose report type \\\"A\\\" or \\\"T\\\": \")\n        print (\"Report type \\\"A\\\" includes All items, report type \\\"T\\\" includes only Totals\")\n        if report ==\"A\":\n            answer=\"\"\n            print (\"Input an integer to add to the total or \\\"Q\\\" to quit\")\n            total=\"\"\n            item=\"\"\n            while True:\n                answer=input (\"Enter an integer or \\\"Q\\\": \")\n                if answer.isdigit():\n                    int(answer)\n                    total+= answer\n                    item=item+answer\n                elif answer.startswith(\"Q\"):\n                    print (\"Total\",\"\\n\",total)\n                    print (\"Items\", \"\\n\", item,\"\\n\", answer)\n                    break\n                else:\n                    print (\"Invalid input\")\n            break\n        elif report ==\"T\":\n            answer=\"\"\n            print (\"Input an integer to add to the total or \\\"Q\\\" to quit\")\n            total=\"\"\n            item=\"\"\n            while True:\n                answer=input (\"Enter an integer or \\\"Q\\\": \")\n                if answer.isdigit():\n                    int(answer)\n                    total+= answer\n                elif answer.startswith(\"Q\"):\n                    print (\"Total\",\"\\n\",total)\n                    print (\"Items\", \"\\n\", item,\"\\n\", answer)\n                    break\n                else:\n                    print (\"Invalid input\")\n            break\n        else:\n            answer=\"\"\n            print (report + \" is invalid entry\")\n    return report\n\nadding_report()",
      "execution_count": 6,
      "outputs": [
        {
          "output_type": "stream",
          "name": "stdout",
          "text": "Choose report type \"A\" or \"T\": A\nReport type \"A\" includes All items, report type \"T\" includes only Totals\nInput an integer to add to the total or \"Q\" to quit\nEnter an integer or \"Q\": 10\nEnter an integer or \"Q\": 5\nEnter an integer or \"Q\": Q\nTotal \n 105\nItems \n 105 \n Q\n"
        },
        {
          "output_type": "execute_result",
          "execution_count": 6,
          "data": {
            "text/plain": "'A'"
          },
          "metadata": {}
        }
      ]
    },
    {
      "metadata": {
        "trusted": true
      },
      "cell_type": "code",
      "source": "total=0\ntype(total)",
      "execution_count": 5,
      "outputs": [
        {
          "output_type": "execute_result",
          "execution_count": 5,
          "data": {
            "text/plain": "int"
          },
          "metadata": {}
        }
      ]
    }
  ],
  "metadata": {
    "kernelspec": {
      "name": "python3",
      "display_name": "Python 3",
      "language": "python"
    },
    "language_info": {
      "mimetype": "text/x-python",
      "nbconvert_exporter": "python",
      "name": "python",
      "file_extension": ".py",
      "version": "3.5.4",
      "pygments_lexer": "ipython3",
      "codemirror_mode": {
        "version": 3,
        "name": "ipython"
      }
    }
  },
  "nbformat": 4,
  "nbformat_minor": 1
}